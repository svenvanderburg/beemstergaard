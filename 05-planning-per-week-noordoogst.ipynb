{
 "cells": [
  {
   "cell_type": "code",
   "execution_count": 1,
   "id": "f98b0e02-c27a-45af-baa0-c61bc00db412",
   "metadata": {},
   "outputs": [],
   "source": [
    "import pandas as pd"
   ]
  },
  {
   "cell_type": "markdown",
   "id": "f56aeeb6-ee3e-4f86-9c87-8d3a17999368",
   "metadata": {},
   "source": [
    "## Veld gewassen"
   ]
  },
  {
   "cell_type": "code",
   "execution_count": 12,
   "id": "8d7eb2fe-aead-436e-ba8b-28a7973cc2c4",
   "metadata": {},
   "outputs": [],
   "source": [
    "df_raw = pd.read_excel('data/Teeltplan NoordOogst 2025.xlsx', sheet_name='Veld gewassen')"
   ]
  },
  {
   "cell_type": "code",
   "execution_count": 13,
   "id": "7abac4b1-d543-44dd-847e-8495e6ff8d6f",
   "metadata": {},
   "outputs": [
    {
     "data": {
      "text/plain": [
       "Index(['Groep', 'Gewas', 'Ras', 'Aantal bedden', 'Z / VZ / PL ',\n",
       "       'Afstand tussen rij', 'Afstand in rij', 'Aantal rijen',\n",
       "       'Planten per bed', 'Planten nodig', 'Zaaidiepte (cm)', 'Zaaien (week)',\n",
       "       'Planten (week)', 'Verwachte oogst (week)', 'Eindweek\\noogst',\n",
       "       'Einddatum oogst', 'Bakken', 'Aantal planten besteld',\n",
       "       'Duizendkorrel gewicht', 'Zaad nodig (gr)', 'Leverancier',\n",
       "       'Opmerkingen'],\n",
       "      dtype='object')"
      ]
     },
     "execution_count": 13,
     "metadata": {},
     "output_type": "execute_result"
    }
   ],
   "source": [
    "df_raw.columns"
   ]
  },
  {
   "cell_type": "code",
   "execution_count": 14,
   "id": "a07b16ef-ed08-4210-b8a2-ba089b81523e",
   "metadata": {},
   "outputs": [],
   "source": [
    "def get_unique_bed_numbers(df):\n",
    "    cleaned = df['Bed\\nnummer'].str.replace(\" \",\"\").str.split(',').dropna()\n",
    "    return {e for l in cleaned for e in l}\n",
    "\n",
    "data = list()\n",
    "mapper = {\n",
    "    'zaaien': 'Zaaien (week)',\n",
    "    'planten': 'Planten (week)'} \n",
    "for week in range(2, 53):\n",
    "    for activity in mapper.keys():\n",
    "        selection = df_raw[df_raw[mapper[activity]] == week]\n",
    "        for gewas in set(selection['Gewas']):\n",
    "            this_rows = selection[selection['Gewas'] == gewas]\n",
    "            if len(this_rows['Z / VZ / PL '].unique()) > 2:\n",
    "                raise ValueError(f'Multiple methods for {gewas}')\n",
    "            method = this_rows['Z / VZ / PL '].unique()[0]\n",
    "            if activity in ['zaaien', 'planten'] and method == 'Z':\n",
    "                to_do = 'direct zaaien'\n",
    "            elif activity == 'zaaien' and method == 'VZ':\n",
    "                to_do = 'voorzaaien'\n",
    "                bed_numbers = []\n",
    "            else:\n",
    "                to_do = activity\n",
    "\n",
    "                \n",
    "            data.append({'Week': week,\n",
    "                         'Wat doen?': f'{gewas} {to_do}'})\n",
    "veld_per_week_df = pd.DataFrame(data)"
   ]
  },
  {
   "cell_type": "code",
   "execution_count": 15,
   "id": "66ef2bfe-1ff6-4f19-8392-81dd9a36b603",
   "metadata": {
    "tags": []
   },
   "outputs": [
    {
     "data": {
      "text/html": [
       "<div>\n",
       "<style scoped>\n",
       "    .dataframe tbody tr th:only-of-type {\n",
       "        vertical-align: middle;\n",
       "    }\n",
       "\n",
       "    .dataframe tbody tr th {\n",
       "        vertical-align: top;\n",
       "    }\n",
       "\n",
       "    .dataframe thead th {\n",
       "        text-align: right;\n",
       "    }\n",
       "</style>\n",
       "<table border=\"1\" class=\"dataframe\">\n",
       "  <thead>\n",
       "    <tr style=\"text-align: right;\">\n",
       "      <th></th>\n",
       "      <th>Week</th>\n",
       "      <th>Wat doen?</th>\n",
       "    </tr>\n",
       "  </thead>\n",
       "  <tbody>\n",
       "    <tr>\n",
       "      <th>0</th>\n",
       "      <td>4</td>\n",
       "      <td>Tuinbonen (vroeg) voorzaaien</td>\n",
       "    </tr>\n",
       "    <tr>\n",
       "      <th>1</th>\n",
       "      <td>8</td>\n",
       "      <td>Peultjes voorzaaien</td>\n",
       "    </tr>\n",
       "    <tr>\n",
       "      <th>2</th>\n",
       "      <td>8</td>\n",
       "      <td>Doperwten voorzaaien</td>\n",
       "    </tr>\n",
       "    <tr>\n",
       "      <th>3</th>\n",
       "      <td>8</td>\n",
       "      <td>Verbena voorzaaien</td>\n",
       "    </tr>\n",
       "    <tr>\n",
       "      <th>4</th>\n",
       "      <td>8</td>\n",
       "      <td>Kapucijners voorzaaien</td>\n",
       "    </tr>\n",
       "  </tbody>\n",
       "</table>\n",
       "</div>"
      ],
      "text/plain": [
       "   Week                     Wat doen?\n",
       "0     4  Tuinbonen (vroeg) voorzaaien\n",
       "1     8           Peultjes voorzaaien\n",
       "2     8          Doperwten voorzaaien\n",
       "3     8            Verbena voorzaaien\n",
       "4     8        Kapucijners voorzaaien"
      ]
     },
     "execution_count": 15,
     "metadata": {},
     "output_type": "execute_result"
    }
   ],
   "source": [
    "veld_per_week_df.head()"
   ]
  },
  {
   "cell_type": "markdown",
   "id": "de6a2743-c8b8-44ea-8138-8a75dd6c9c54",
   "metadata": {},
   "source": [
    "## Kas gewassen"
   ]
  },
  {
   "cell_type": "code",
   "execution_count": 16,
   "id": "08b09d45-abed-4fd6-beb2-3756b3b0c0ab",
   "metadata": {},
   "outputs": [],
   "source": [
    "df_raw = pd.read_excel('data/Teeltplan NoordOogst 2025.xlsx', sheet_name='Kas gewassen')"
   ]
  },
  {
   "cell_type": "code",
   "execution_count": 17,
   "id": "b42c5ca1-11b8-4001-a360-f39c2ec24f57",
   "metadata": {},
   "outputs": [
    {
     "data": {
      "text/plain": [
       "Index(['Gewas', 'Ras', 'Aantal bedden', 'Z / VZ / PL', 'Afstand tussen rij',\n",
       "       'Afstand in rij', 'Aantal rijen', 'Planten per bed', 'Planten nodig',\n",
       "       'Zaaidiepte', 'Zaaien (week)', 'Planten (week)',\n",
       "       'Verwachte oogst (week)', 'Eindweek\\noogst', 'Bakken',\n",
       "       'Aantal planten besteld', 'Duizendkorrel gewicht', 'Zaad nodig (gr)',\n",
       "       'Leverancier', 'Opmerkingen'],\n",
       "      dtype='object')"
      ]
     },
     "execution_count": 17,
     "metadata": {},
     "output_type": "execute_result"
    }
   ],
   "source": [
    "df_raw.columns"
   ]
  },
  {
   "cell_type": "code",
   "execution_count": 18,
   "id": "fab67bd6-3697-461e-b189-24f72d1e2c7a",
   "metadata": {},
   "outputs": [],
   "source": [
    "def get_unique_bed_numbers(df):\n",
    "    cleaned = df['Bed\\nnummer'].str.replace(\" \",\"\").str.split(',').dropna()\n",
    "    return {e for l in cleaned for e in l}\n",
    "\n",
    "data = list()\n",
    "mapper = {\n",
    "    'zaaien': 'Zaaien (week)',\n",
    "    'planten': 'Planten (week)'} \n",
    "for week in range(2, 53):\n",
    "    for activity in mapper.keys():\n",
    "        selection = df_raw[df_raw[mapper[activity]] == week]\n",
    "        for gewas in set(selection['Gewas']):\n",
    "            this_rows = selection[selection['Gewas'] == gewas]\n",
    "            if len(this_rows['Z / VZ / PL'].unique()) > 2:\n",
    "                raise ValueError(f'Multiple methods for {gewas}')\n",
    "            method = this_rows['Z / VZ / PL'].unique()[0]\n",
    "            if activity in ['zaaien', 'planten'] and method == 'Z':\n",
    "                to_do = 'direct zaaien'\n",
    "            elif activity == 'zaaien' and method == 'VZ':\n",
    "                to_do = 'voorzaaien'\n",
    "                bed_numbers = []\n",
    "            else:\n",
    "                to_do = activity\n",
    "\n",
    "                \n",
    "            data.append({'Week': week,\n",
    "                         'Wat doen?': f'{gewas} {to_do}'})\n",
    "kas_per_week_df = pd.DataFrame(data)"
   ]
  },
  {
   "cell_type": "code",
   "execution_count": 19,
   "id": "7a048dec-c40c-44da-b3c8-9ebb48070c6c",
   "metadata": {
    "tags": []
   },
   "outputs": [
    {
     "data": {
      "text/html": [
       "<div>\n",
       "<style scoped>\n",
       "    .dataframe tbody tr th:only-of-type {\n",
       "        vertical-align: middle;\n",
       "    }\n",
       "\n",
       "    .dataframe tbody tr th {\n",
       "        vertical-align: top;\n",
       "    }\n",
       "\n",
       "    .dataframe thead th {\n",
       "        text-align: right;\n",
       "    }\n",
       "</style>\n",
       "<table border=\"1\" class=\"dataframe\">\n",
       "  <thead>\n",
       "    <tr style=\"text-align: right;\">\n",
       "      <th></th>\n",
       "      <th>Week</th>\n",
       "      <th>Wat doen?</th>\n",
       "    </tr>\n",
       "  </thead>\n",
       "  <tbody>\n",
       "    <tr>\n",
       "      <th>0</th>\n",
       "      <td>7</td>\n",
       "      <td>paprika eigen opkweek voorzaaien</td>\n",
       "    </tr>\n",
       "    <tr>\n",
       "      <th>1</th>\n",
       "      <td>7</td>\n",
       "      <td>spinazie direct zaaien</td>\n",
       "    </tr>\n",
       "    <tr>\n",
       "      <th>2</th>\n",
       "      <td>7</td>\n",
       "      <td>peper eigen opkweek geleid voorzaaien</td>\n",
       "    </tr>\n",
       "    <tr>\n",
       "      <th>3</th>\n",
       "      <td>7</td>\n",
       "      <td>bosui direct zaaien</td>\n",
       "    </tr>\n",
       "    <tr>\n",
       "      <th>4</th>\n",
       "      <td>7</td>\n",
       "      <td>peper eigen opkweek bush voorzaaien</td>\n",
       "    </tr>\n",
       "  </tbody>\n",
       "</table>\n",
       "</div>"
      ],
      "text/plain": [
       "   Week                              Wat doen?\n",
       "0     7       paprika eigen opkweek voorzaaien\n",
       "1     7                 spinazie direct zaaien\n",
       "2     7  peper eigen opkweek geleid voorzaaien\n",
       "3     7                    bosui direct zaaien\n",
       "4     7    peper eigen opkweek bush voorzaaien"
      ]
     },
     "execution_count": 19,
     "metadata": {},
     "output_type": "execute_result"
    }
   ],
   "source": [
    "kas_per_week_df.head()"
   ]
  },
  {
   "cell_type": "code",
   "execution_count": 20,
   "id": "a3e481b4-c04e-4187-999c-39795a73c22a",
   "metadata": {},
   "outputs": [
    {
     "data": {
      "text/plain": [
       "(48, 2)"
      ]
     },
     "execution_count": 20,
     "metadata": {},
     "output_type": "execute_result"
    }
   ],
   "source": [
    "kas_per_week_df.shape"
   ]
  },
  {
   "cell_type": "code",
   "execution_count": 22,
   "id": "86622946-a9a3-4290-9618-bbc24c94b59f",
   "metadata": {},
   "outputs": [],
   "source": [
    "full_df = pd.concat([veld_per_week_df, kas_per_week_df])"
   ]
  },
  {
   "cell_type": "code",
   "execution_count": 23,
   "id": "5b3b3a15-6058-418f-abe6-1a930c77133c",
   "metadata": {},
   "outputs": [],
   "source": [
    "full_df = full_df.sort_values(by='Week')"
   ]
  },
  {
   "cell_type": "code",
   "execution_count": 24,
   "id": "ae3be3c5-caf8-485f-a42b-dec32f6c01f0",
   "metadata": {},
   "outputs": [
    {
     "data": {
      "text/html": [
       "<div>\n",
       "<style scoped>\n",
       "    .dataframe tbody tr th:only-of-type {\n",
       "        vertical-align: middle;\n",
       "    }\n",
       "\n",
       "    .dataframe tbody tr th {\n",
       "        vertical-align: top;\n",
       "    }\n",
       "\n",
       "    .dataframe thead th {\n",
       "        text-align: right;\n",
       "    }\n",
       "</style>\n",
       "<table border=\"1\" class=\"dataframe\">\n",
       "  <thead>\n",
       "    <tr style=\"text-align: right;\">\n",
       "      <th></th>\n",
       "      <th>Week</th>\n",
       "      <th>Wat doen?</th>\n",
       "    </tr>\n",
       "  </thead>\n",
       "  <tbody>\n",
       "    <tr>\n",
       "      <th>0</th>\n",
       "      <td>4</td>\n",
       "      <td>Tuinbonen (vroeg) voorzaaien</td>\n",
       "    </tr>\n",
       "    <tr>\n",
       "      <th>2</th>\n",
       "      <td>7</td>\n",
       "      <td>peper eigen opkweek geleid voorzaaien</td>\n",
       "    </tr>\n",
       "    <tr>\n",
       "      <th>3</th>\n",
       "      <td>7</td>\n",
       "      <td>bosui direct zaaien</td>\n",
       "    </tr>\n",
       "    <tr>\n",
       "      <th>4</th>\n",
       "      <td>7</td>\n",
       "      <td>peper eigen opkweek bush voorzaaien</td>\n",
       "    </tr>\n",
       "    <tr>\n",
       "      <th>1</th>\n",
       "      <td>7</td>\n",
       "      <td>spinazie direct zaaien</td>\n",
       "    </tr>\n",
       "  </tbody>\n",
       "</table>\n",
       "</div>"
      ],
      "text/plain": [
       "   Week                              Wat doen?\n",
       "0     4           Tuinbonen (vroeg) voorzaaien\n",
       "2     7  peper eigen opkweek geleid voorzaaien\n",
       "3     7                    bosui direct zaaien\n",
       "4     7    peper eigen opkweek bush voorzaaien\n",
       "1     7                 spinazie direct zaaien"
      ]
     },
     "execution_count": 24,
     "metadata": {},
     "output_type": "execute_result"
    }
   ],
   "source": [
    "full_df.head()"
   ]
  },
  {
   "cell_type": "code",
   "execution_count": 25,
   "id": "083b38f2-5f85-408a-9435-24831857eb4c",
   "metadata": {},
   "outputs": [],
   "source": [
    "full_df.to_excel('data/planning-per-week-noordoogst-2025.xlsx', index=False)"
   ]
  },
  {
   "cell_type": "code",
   "execution_count": null,
   "id": "c057f224-c40c-40d8-b328-e4b853c6d12e",
   "metadata": {},
   "outputs": [],
   "source": []
  }
 ],
 "metadata": {
  "kernelspec": {
   "display_name": "Python 3 (ipykernel)",
   "language": "python",
   "name": "python3"
  },
  "language_info": {
   "codemirror_mode": {
    "name": "ipython",
    "version": 3
   },
   "file_extension": ".py",
   "mimetype": "text/x-python",
   "name": "python",
   "nbconvert_exporter": "python",
   "pygments_lexer": "ipython3",
   "version": "3.9.13"
  }
 },
 "nbformat": 4,
 "nbformat_minor": 5
}
