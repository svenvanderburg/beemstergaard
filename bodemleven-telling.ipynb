{
 "cells": [
  {
   "cell_type": "code",
   "execution_count": 2,
   "id": "775f6ba6-36ec-45ef-823e-d1478bc863b3",
   "metadata": {},
   "outputs": [],
   "source": [
    "import pandas as pd\n",
    "import seaborn as sns"
   ]
  },
  {
   "cell_type": "code",
   "execution_count": 7,
   "id": "d0607a12-fff7-4bea-9c3b-9fff657be938",
   "metadata": {},
   "outputs": [],
   "source": [
    "df = pd.read_csv('data/bodemleven telling.csv')\n",
    "df = df.rename({'Unnamed: 0': 'locatie'}, axis=1)"
   ]
  },
  {
   "cell_type": "code",
   "execution_count": 8,
   "id": "b7173a1c-7724-41a8-a415-b8e3ea0a0200",
   "metadata": {},
   "outputs": [
    {
     "data": {
      "text/html": [
       "<div>\n",
       "<style scoped>\n",
       "    .dataframe tbody tr th:only-of-type {\n",
       "        vertical-align: middle;\n",
       "    }\n",
       "\n",
       "    .dataframe tbody tr th {\n",
       "        vertical-align: top;\n",
       "    }\n",
       "\n",
       "    .dataframe thead th {\n",
       "        text-align: right;\n",
       "    }\n",
       "</style>\n",
       "<table border=\"1\" class=\"dataframe\">\n",
       "  <thead>\n",
       "    <tr style=\"text-align: right;\">\n",
       "      <th></th>\n",
       "      <th>locatie</th>\n",
       "      <th>datum</th>\n",
       "      <th>steekproef</th>\n",
       "      <th>regenworm</th>\n",
       "      <th>pissebed</th>\n",
       "      <th>duizendpoot</th>\n",
       "      <th>oorwurm</th>\n",
       "      <th>spin</th>\n",
       "      <th>kortschildkever</th>\n",
       "      <th>kniptor</th>\n",
       "      <th>engerling</th>\n",
       "      <th>ritnaald</th>\n",
       "      <th>aaltje</th>\n",
       "      <th>slak</th>\n",
       "      <th>loopkever</th>\n",
       "      <th>schorskever</th>\n",
       "      <th>mier</th>\n",
       "      <th>onbekend</th>\n",
       "    </tr>\n",
       "  </thead>\n",
       "  <tbody>\n",
       "    <tr>\n",
       "      <th>0</th>\n",
       "      <td>Beemstergaard tuin 1</td>\n",
       "      <td>03-10-22</td>\n",
       "      <td>kegel van 50cm boven, onder 15 cm, diepte 40 cm</td>\n",
       "      <td>106</td>\n",
       "      <td>10</td>\n",
       "      <td>6</td>\n",
       "      <td>0</td>\n",
       "      <td>4</td>\n",
       "      <td>3</td>\n",
       "      <td>NaN</td>\n",
       "      <td>NaN</td>\n",
       "      <td>NaN</td>\n",
       "      <td>28</td>\n",
       "      <td>1</td>\n",
       "      <td>1</td>\n",
       "      <td>NaN</td>\n",
       "      <td>1.0</td>\n",
       "      <td>11</td>\n",
       "    </tr>\n",
       "    <tr>\n",
       "      <th>1</th>\n",
       "      <td>Smaak groenten</td>\n",
       "      <td>03-10-22</td>\n",
       "      <td>40x40x40</td>\n",
       "      <td>75</td>\n",
       "      <td>27</td>\n",
       "      <td>5</td>\n",
       "      <td>8</td>\n",
       "      <td>5</td>\n",
       "      <td>5</td>\n",
       "      <td>1.0</td>\n",
       "      <td>1.0</td>\n",
       "      <td>1.0</td>\n",
       "      <td>22</td>\n",
       "      <td>2</td>\n",
       "      <td>2</td>\n",
       "      <td>1.0</td>\n",
       "      <td>NaN</td>\n",
       "      <td>19</td>\n",
       "    </tr>\n",
       "  </tbody>\n",
       "</table>\n",
       "</div>"
      ],
      "text/plain": [
       "                locatie     datum  \\\n",
       "0  Beemstergaard tuin 1  03-10-22   \n",
       "1        Smaak groenten  03-10-22   \n",
       "\n",
       "                                        steekproef  regenworm  pissebed  \\\n",
       "0  kegel van 50cm boven, onder 15 cm, diepte 40 cm        106        10   \n",
       "1                                         40x40x40         75        27   \n",
       "\n",
       "   duizendpoot  oorwurm  spin  kortschildkever  kniptor  engerling  ritnaald  \\\n",
       "0            6        0     4                3      NaN        NaN       NaN   \n",
       "1            5        8     5                5      1.0        1.0       1.0   \n",
       "\n",
       "   aaltje  slak  loopkever  schorskever  mier  onbekend  \n",
       "0      28     1          1          NaN   1.0        11  \n",
       "1      22     2          2          1.0   NaN        19  "
      ]
     },
     "execution_count": 8,
     "metadata": {},
     "output_type": "execute_result"
    }
   ],
   "source": [
    "df"
   ]
  },
  {
   "cell_type": "code",
   "execution_count": 44,
   "id": "64f8cf47-88f6-4633-9627-8d97a1b0dce5",
   "metadata": {},
   "outputs": [],
   "source": []
  },
  {
   "cell_type": "code",
   "execution_count": 45,
   "id": "51cfba03-e000-4670-b287-a8b362dc48cd",
   "metadata": {},
   "outputs": [],
   "source": [
    "df_melted = df.drop(['datum', 'steekproef'], axis=1).melt(id_vars='locatie', value_name='aantal', var_name='soort')"
   ]
  },
  {
   "cell_type": "code",
   "execution_count": 53,
   "id": "b12887c8-249f-4149-b9ea-2bbbe80112b8",
   "metadata": {},
   "outputs": [
    {
     "data": {
      "image/png": "[encoded data removed]",
      "text/plain": [
       "<Figure size 576x576 with 1 Axes>"
      ]
     },
     "metadata": {},
     "output_type": "display_data"
    }
   ],
   "source": [
    "sns.set(rc={'figure.figsize':(8,8)})\n",
    "sns.set_style(\"whitegrid\")\n",
    "g = sns.barplot(data=df_melted, x='aantal', y='soort', hue='locatie')\n",
    "_ = g.set_title('Aantal bodemdieren per soort in grondmonsters')"
   ]
  },
  {
   "cell_type": "code",
   "execution_count": null,
   "id": "e2a501e8-1957-40b0-9938-b9d0030d9f7c",
   "metadata": {},
   "outputs": [],
   "source": []
  }
 ],
 "metadata": {
  "kernelspec": {
   "display_name": "Python 3 (ipykernel)",
   "language": "python",
   "name": "python3"
  },
  "language_info": {
   "codemirror_mode": {
    "name": "ipython",
    "version": 3
   },
   "file_extension": ".py",
   "mimetype": "text/x-python",
   "name": "python",
   "nbconvert_exporter": "python",
   "pygments_lexer": "ipython3",
   "version": "3.9.0"
  }
 },
 "nbformat": 4,
 "nbformat_minor": 5
}
